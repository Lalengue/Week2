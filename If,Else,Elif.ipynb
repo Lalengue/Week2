{
 "cells": [
  {
   "cell_type": "markdown",
   "id": "83d25b45",
   "metadata": {},
   "source": [
    "## Trial 1"
   ]
  },
  {
   "cell_type": "code",
   "execution_count": 2,
   "id": "7b50a78f",
   "metadata": {},
   "outputs": [
    {
     "data": {
      "text/plain": [
       "False"
      ]
     },
     "execution_count": 2,
     "metadata": {},
     "output_type": "execute_result"
    }
   ],
   "source": [
    " 1 ==3\n"
   ]
  },
  {
   "cell_type": "code",
   "execution_count": 3,
   "id": "c1834012",
   "metadata": {},
   "outputs": [
    {
     "data": {
      "text/plain": [
       "True"
      ]
     },
     "execution_count": 3,
     "metadata": {},
     "output_type": "execute_result"
    }
   ],
   "source": [
    "2 == 2"
   ]
  },
  {
   "cell_type": "code",
   "execution_count": 5,
   "id": "11a7e6e6",
   "metadata": {},
   "outputs": [
    {
     "name": "stdout",
     "output_type": "stream",
     "text": [
      "Hola!, estoy probando a ver si esto aparece correctanente \n",
      "Esperemos que si.\n"
     ]
    }
   ],
   "source": [
    "print (f'Hola!, estoy probando a ver si esto aparece correctanente \\nEsperemos que si.')"
   ]
  },
  {
   "cell_type": "code",
   "execution_count": 7,
   "id": "6add4c9e",
   "metadata": {},
   "outputs": [
    {
     "name": "stdout",
     "output_type": "stream",
     "text": [
      "3=4\n",
      "right?\n"
     ]
    }
   ],
   "source": [
    "if 3 != 4:\n",
    "    print('3=4')\n",
    "print('right?')"
   ]
  },
  {
   "cell_type": "code",
   "execution_count": 9,
   "id": "501235ca",
   "metadata": {},
   "outputs": [
    {
     "name": "stdout",
     "output_type": "stream",
     "text": [
      "3=4\n",
      "right?\n"
     ]
    }
   ],
   "source": [
    "if 3 != 4:\n",
    "    print('3=4')\n",
    "else: print('amazing!')\n",
    "print('right?')"
   ]
  },
  {
   "cell_type": "code",
   "execution_count": null,
   "id": "6d859a90",
   "metadata": {},
   "outputs": [],
   "source": []
  }
 ],
 "metadata": {
  "kernelspec": {
   "display_name": "Python 3 (ipykernel)",
   "language": "python",
   "name": "python3"
  },
  "language_info": {
   "codemirror_mode": {
    "name": "ipython",
    "version": 3
   },
   "file_extension": ".py",
   "mimetype": "text/x-python",
   "name": "python",
   "nbconvert_exporter": "python",
   "pygments_lexer": "ipython3",
   "version": "3.11.5"
  }
 },
 "nbformat": 4,
 "nbformat_minor": 5
}
